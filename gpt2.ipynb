{
 "cells": [
  {
   "cell_type": "code",
   "execution_count": 1,
   "metadata": {},
   "outputs": [],
   "source": [
    "import gpt_2_simple as gpt2"
   ]
  },
  {
   "cell_type": "code",
   "execution_count": 2,
   "metadata": {},
   "outputs": [],
   "source": [
    "# gpt2.download_gpt2(model_name = '124M')"
   ]
  },
  {
   "cell_type": "code",
   "execution_count": 3,
   "metadata": {},
   "outputs": [],
   "source": [
    "session = gpt2.start_tf_sess()"
   ]
  },
  {
   "cell_type": "code",
   "execution_count": 4,
   "metadata": {},
   "outputs": [
    {
     "name": "stderr",
     "output_type": "stream",
     "text": [
      "2023-12-19 10:22:24.386570: I tensorflow/compiler/mlir/mlir_graph_optimization_pass.cc:388] MLIR V1 optimization pass is not enabled\n"
     ]
    },
    {
     "name": "stdout",
     "output_type": "stream",
     "text": [
      "Loading checkpoint checkpoint/steam/model-40\n",
      "INFO:tensorflow:Restoring parameters from checkpoint/steam/model-40\n",
      "Loading dataset...\n"
     ]
    },
    {
     "name": "stderr",
     "output_type": "stream",
     "text": [
      "100%|██████████| 1/1 [00:00<00:00, 1429.06it/s]"
     ]
    },
    {
     "name": "stdout",
     "output_type": "stream",
     "text": [
      "dataset has 1818 tokens\n",
      "Training...\n"
     ]
    },
    {
     "name": "stderr",
     "output_type": "stream",
     "text": [
      "\n"
     ]
    },
    {
     "name": "stdout",
     "output_type": "stream",
     "text": [
      "[41 | 18.62] loss=0.02 avg=0.02\n",
      "[42 | 36.79] loss=0.04 avg=0.03\n",
      "[43 | 55.24] loss=0.02 avg=0.02\n",
      "[44 | 73.53] loss=0.02 avg=0.02\n",
      "[45 | 92.00] loss=0.02 avg=0.02\n",
      "[46 | 110.28] loss=0.02 avg=0.02\n",
      "[47 | 128.38] loss=0.02 avg=0.02\n",
      "[48 | 147.03] loss=0.02 avg=0.02\n",
      "[49 | 165.22] loss=0.02 avg=0.02\n",
      "[50 | 183.46] loss=0.01 avg=0.02\n",
      "[51 | 202.16] loss=0.02 avg=0.02\n",
      "[52 | 220.06] loss=0.01 avg=0.02\n",
      "[53 | 238.11] loss=0.02 avg=0.02\n",
      "[54 | 256.47] loss=0.02 avg=0.02\n",
      "[55 | 274.68] loss=0.01 avg=0.02\n",
      "[56 | 292.88] loss=0.02 avg=0.02\n",
      "[57 | 310.80] loss=0.01 avg=0.02\n",
      "[58 | 329.15] loss=0.01 avg=0.02\n",
      "[59 | 347.11] loss=0.01 avg=0.02\n",
      "[60 | 365.04] loss=0.01 avg=0.02\n",
      "[61 | 383.80] loss=0.02 avg=0.02\n",
      "[62 | 401.77] loss=0.01 avg=0.02\n",
      "[63 | 420.06] loss=0.01 avg=0.02\n",
      "[64 | 438.21] loss=0.01 avg=0.02\n",
      "[65 | 456.01] loss=0.01 avg=0.02\n",
      "[66 | 475.25] loss=0.02 avg=0.02\n",
      "[67 | 493.21] loss=0.01 avg=0.02\n",
      "[68 | 511.61] loss=0.01 avg=0.02\n",
      "[69 | 529.60] loss=0.01 avg=0.02\n",
      "[70 | 547.74] loss=0.01 avg=0.02\n",
      "[71 | 565.63] loss=0.01 avg=0.02\n",
      "[72 | 583.00] loss=0.01 avg=0.02\n",
      "[73 | 600.36] loss=0.02 avg=0.02\n",
      "[74 | 618.06] loss=0.01 avg=0.02\n",
      "[75 | 637.10] loss=0.01 avg=0.01\n",
      "[76 | 655.58] loss=0.01 avg=0.01\n",
      "[77 | 673.67] loss=0.01 avg=0.01\n",
      "[78 | 692.07] loss=0.01 avg=0.01\n",
      "[79 | 709.65] loss=0.01 avg=0.01\n",
      "[80 | 727.02] loss=0.01 avg=0.01\n",
      "[81 | 745.45] loss=0.01 avg=0.01\n",
      "[82 | 763.43] loss=0.01 avg=0.01\n",
      "[83 | 781.62] loss=0.01 avg=0.01\n",
      "[84 | 799.83] loss=0.01 avg=0.01\n",
      "[85 | 817.62] loss=0.01 avg=0.01\n",
      "[86 | 836.20] loss=0.01 avg=0.01\n",
      "[87 | 854.41] loss=0.01 avg=0.01\n",
      "[88 | 872.33] loss=0.01 avg=0.01\n",
      "[89 | 890.42] loss=0.01 avg=0.01\n",
      "[90 | 908.48] loss=0.01 avg=0.01\n",
      "Saving checkpoint/steam/model-90\n"
     ]
    }
   ],
   "source": [
    "gpt2.finetune(session, \"steam.txt\", model_name = \"124M\", steps = 50, run_name = 'steam')"
   ]
  },
  {
   "cell_type": "code",
   "execution_count": 8,
   "metadata": {},
   "outputs": [
    {
     "name": "stdout",
     "output_type": "stream",
     "text": [
      "Q: What job are there?\n",
      "A: We are hiring; we are hiring, we are hiring, we are hiring, and we are hiring.\n",
      "Q: What is the purpose of the Advisory Council? How often does it meet?\n",
      "A: In order to execute strong programs that relate to real-world skills, we need your advice, as experts in the industry that are hiring our youth, we need to hear from you. Our Advisory Council is where we discuss these details to then iterate and revise our curriculum and opportunities. We typically meet semi-annually, in January and June, but invested members can choose to be tapped more often.\n",
      "Q: When do you typically place interns with business? How long are the experiences?\n",
      "A: We have three typical internship cycles, Fall (October-January), Spring (March-May), and Summer (July-August). Internships are usually between 80-120 hours each, you are able to work with the intern to establish a schedule that works for both of you.\n",
      "Q: What is the expectation around intern pay and workers’ compensation insurance?\n",
      "A: Although we are always excited for partners that are willing to compensate interns, we understand that might not always be an option; regardless, all interns are compensated, and we will use our budget where available to pay the prevailing minimum wage rate. Workers’ compensation insurance is the responsibility of the organization that pays the scholar, so if we’re paying, we’ve covered the legality there.\n",
      "Q: What will my potential intern be capable of doing?\n",
      "A: Our scholars are enrolled in high-quality career pathway programs, you can read about their high-level overviews here. You will also have the ability to review their resume, portfolio, and industry certifications, and interview them to decide if there is a match.\n",
      "Q: Explain the smaller work-based learning opportunities I can get involved with.\n",
      "A: Beyond our internship program and industry-based project initiative, organizations may choose to schedule opportunities such as “Guest Speaking”, “Workplace Tours”, “Career Fairs”, “Job Shadowing” or “Mentoring.”\n",
      "Q: Where does postsecondary education fit in the Brooklyn STEAM Center model?\n",
      "A: We believe that learning is a lifelong process, so we encourage our youth to start “Learning & Earning” when they’re with us and beyond, programs such as college, trade school, and apprenticeships are all viable options post-graduation.\n",
      "Q: Do you track students into a particular option?\n",
      "A: No, we believe in supporting our youth with a pathway that works best with their needs. College, trade school, and apprenticeships all have their own advantages, that we present to our youth for them to make an informed decision.\n",
      "Q: What’s an articulation agreement?\n",
      "A: In short, it is a formalized document between our institution and yours that illustrates the pipeline recruitment strategy to your pathway, which comes with the added benefits of having highly interested and pre-trained scholars that typically come with some form of incentive (e.g. Prior Learning Credit, Fee Waiver, etc.).\n",
      "Q: What should I be looking at to start my journey in understanding the STEAM model?\n",
      "A: We recommend checking out our Playbook as the prime source that breaks down our model for different audiences.\n",
      "Q: Do you do tours?\n",
      "A: Yes, please reach out via our contact form to request a tour. \n",
      "Q: I want to spend a whole day with you to really learn about your model, is something like that possible?\n",
      "A: Inspiration visits are possible, for individuals and teams, which can span several hours or days. Please reach out to us so that we can collaborate on bringing that vision to life.\n",
      "Q: Is there a fee for these explorations?\n",
      "A: It depends, we want to share our model as much as we can, and based on our conversation about collaboration, deep engagements may have a small fee. Rest assured these funds are used to add to our scholar compensation fund for our internship program.\n",
      "Q: When do the Brooklyn STEAM Center programs occur?\n",
      "A: The Brooklyn STEAM Center programs occur during the regular school day, in the morning for Year 2 scholars and in the afternoon for Year 1 scholars. We operate the same days as the partner high school, offering instruction five days a week for 2.5 hours each day.\n",
      "Q: Wait a second, you said that students will be splitting their day, what does that mean?\n",
      "A: The Brooklyn STEAM Center is located on the Brooklyn Navy Yard, which is geographically separate from all of our partner high schools. Scholars in our program spend half of their school day with us and the other half at their home high school. We provide complimentary yellow bus shuttles during the middle of the day\n"
     ]
    }
   ],
   "source": [
    "gpt2.generate(session, prefix = \"Q: What job are there?\")"
   ]
  }
 ],
 "metadata": {
  "kernelspec": {
   "display_name": "Python 3",
   "language": "python",
   "name": "python3"
  },
  "language_info": {
   "codemirror_mode": {
    "name": "ipython",
    "version": 3
   },
   "file_extension": ".py",
   "mimetype": "text/x-python",
   "name": "python",
   "nbconvert_exporter": "python",
   "pygments_lexer": "ipython3",
   "version": "3.10.9"
  },
  "orig_nbformat": 4,
  "vscode": {
   "interpreter": {
    "hash": "b0fa6594d8f4cbf19f97940f81e996739fb7646882a419484c72d19e05852a7e"
   }
  }
 },
 "nbformat": 4,
 "nbformat_minor": 2
}
